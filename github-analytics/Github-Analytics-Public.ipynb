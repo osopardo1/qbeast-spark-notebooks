{
 "cells": [
  {
   "cell_type": "markdown",
   "id": "421a1ad9",
   "metadata": {},
   "source": [
    "# Exploring Github Data"
   ]
  },
  {
   "cell_type": "markdown",
   "id": "44b29f5a",
   "metadata": {},
   "source": [
    "Hello CloudAppDevelopers Community!\n",
    "\n",
    "In this notebook, we would learn how to use Pyspark + Jupyter Notebook + Qbeast Format to analyze repositories on Github. For this demo we used the Github Archive Dataset, which can be found on https://www.gharchive.org\n",
    "\n",
    "We upload part of the dataset on a public S3 bucket, so you can try without having to build an scrapping bash script ;)\n",
    "\n"
   ]
  },
  {
   "cell_type": "markdown",
   "id": "943af72e",
   "metadata": {},
   "source": [
    "## Connecting to Spark"
   ]
  },
  {
   "cell_type": "markdown",
   "id": "ca07f195",
   "metadata": {},
   "source": [
    "The first thing we need to do is to connect this Notebook with the Spark on the Kubernetes Deployment. To do so, add the corresponding configuration to the `SparkSession.builder`. "
   ]
  },
  {
   "cell_type": "markdown",
   "id": "b498d816",
   "metadata": {},
   "source": [
    "For using **Qbeast Format** in Spark, just add the packages to the `spark.sql.package` config.\n",
    "Since it's based on Delta Lake, we would need their `delta-core` package too."
   ]
  },
  {
   "cell_type": "code",
   "execution_count": 1,
   "id": "38e7c332",
   "metadata": {},
   "outputs": [],
   "source": [
    "import os\n",
    "import time\n",
    "from pyspark.sql import SparkSession\n",
    "from pyspark.ml.feature import StringIndexer\n",
    "from pyspark.sql.functions import udf, col, mean, count\n",
    "from pyspark.sql.types import FloatType, IntegerType"
   ]
  },
  {
   "cell_type": "code",
   "execution_count": 2,
   "id": "7d201c0f",
   "metadata": {},
   "outputs": [],
   "source": [
    "\n",
    "hadoop_deps = ','.join(map(lambda a: 'org.apache.hadoop:hadoop-' + a + ':3.2.0', ['common','client','aws']))\n",
    "deps = \"io.qbeast:qbeast-spark_2.12:0.3.0-alpha-SNAPSHOT,io.delta:delta-core_2.12:2.1.0,com.amazonaws:aws-java-sdk:1.12.20,\" + hadoop_deps\n",
    "\n",
    "spark = (SparkSession.builder\n",
    "         .master(\"local[*]\")\n",
    "         .config(\"spark.jars.repositories\", \"https://s01.oss.sonatype.org/content/repositories/snapshots\")\n",
    "         .config(\"spark.jars.packages\", deps)\n",
    "         .config(\"spark.sql.extensions\", \"io.qbeast.spark.internal.QbeastSparkSessionExtension\")\n",
    "         .config(\"spark.sql.catalog.spark_catalog\", \"io.qbeast.spark.internal.sources.catalog.QbeastCatalog\")\n",
    "         .config(\"spark.hadoop.fs.s3a.aws.credentials.provider\", \"org.apache.hadoop.fs.s3a.AnonymousAWSCredentialsProvider\")\n",
    "         .getOrCreate())"
   ]
  },
  {
   "cell_type": "markdown",
   "id": "031da522-c51e-43d5-87a4-3861534bb4a0",
   "metadata": {},
   "source": [
    "## Download Data"
   ]
  },
  {
   "cell_type": "markdown",
   "id": "90eea22d-add9-4853-86db-fcc8b43d8704",
   "metadata": {},
   "source": [
    "You can download Github data from the Github Archive Dataset: https://www.gharchive.org "
   ]
  },
  {
   "cell_type": "code",
   "execution_count": null,
   "id": "fb3b126a-13d9-4f7b-8f43-6bcfa4f9e596",
   "metadata": {},
   "outputs": [],
   "source": [
    "#!wget https://data.gharchive.org/2021-10-{01..31}-{0..23}.json.gz"
   ]
  },
  {
   "cell_type": "markdown",
   "id": "22a9f661",
   "metadata": {},
   "source": [
    "## Pre-processing data"
   ]
  },
  {
   "cell_type": "code",
   "execution_count": 4,
   "id": "4801722e",
   "metadata": {},
   "outputs": [],
   "source": [
    "json_raw_data_path = \"s3a://qbeast-public-datasets-us/github-archive/all/2021/json/\"\n",
    "qbeast_data_path = \"s3a://qbeast-public-datasets-us/github-archive/qbeast/all/2021/10\""
   ]
  },
  {
   "cell_type": "code",
   "execution_count": null,
   "id": "6fc23af5",
   "metadata": {},
   "outputs": [],
   "source": [
    "print(f'> > > Reading PARQUET data from {json_raw_data_path}...')\n",
    "df = spark.read.format(\"json\").load(json_raw_data_path)\n",
    "\n",
    "# Pre-process the data (clean and prepare to index)\n",
    "processed_df = (df.withColumn(\"repo_id\", col(\"repo.id\"))\n",
    "                  .withColumn(\"event_id\", col(\"id\"))\n",
    "                  .withColumn(\"event_type\", col(\"type\")))\n",
    "\n",
    "print(f'> > > Saving bronze data in Parquet files...')\n",
    "\n",
    "# Simulate ingestion process: write in an S3 in Qbeast\n",
    "processed_df.show()\n",
    "\n",
    "print(f'> > > Done!')"
   ]
  },
  {
   "cell_type": "markdown",
   "id": "9237f553",
   "metadata": {},
   "source": [
    "## Create Raw Table"
   ]
  },
  {
   "cell_type": "code",
   "execution_count": 5,
   "id": "1b86230e",
   "metadata": {},
   "outputs": [],
   "source": [
    "# Create Table with Spark\n",
    "spark.read.format(\"json\").load(json_raw_data_path).createOrReplaceTempView(\"events_bronze\")"
   ]
  },
  {
   "cell_type": "markdown",
   "id": "eda5efbc",
   "metadata": {},
   "source": [
    "## Writing with Qbeast"
   ]
  },
  {
   "cell_type": "code",
   "execution_count": null,
   "id": "2de74bb8",
   "metadata": {},
   "outputs": [],
   "source": [
    "cols_to_index = ['event_id', 'event_type', 'repo_id']\n",
    "option_cols_to_index = \",\".join(cols_to_index)\n",
    "source_table = \"events_bronze\"\n",
    "table_name = \"events\""
   ]
  },
  {
   "cell_type": "code",
   "execution_count": null,
   "id": "ddc93840",
   "metadata": {},
   "outputs": [],
   "source": [
    "print(f\">>> Indexing data from {source_table} as {table_name}\")\n",
    "\n",
    "# Save the data as Table to use it through SQL\n",
    "spark.sql(\"\"\"\n",
    "CREATE TABLE events \n",
    "USING \n",
    "    qbeast\n",
    "LOCATION 's3a://qbeast-public-datasets-us/github-archive/qbeast/all/2021/10'\n",
    "OPTIONS \n",
    "    ('columnsToIndex'='event_id,event_type,repo_id','cubeSize'='500000')\n",
    "AS \n",
    "SELECT * \n",
    "FROM \n",
    "    events_bronze\"\"\")\n",
    "\n",
    "print(\"> > > Done!\")"
   ]
  },
  {
   "cell_type": "markdown",
   "id": "9ddb1b3a-ce9c-4753-8d7f-3bcbceb3120c",
   "metadata": {},
   "source": [
    "## Create Silver Table"
   ]
  },
  {
   "cell_type": "code",
   "execution_count": 6,
   "id": "1920e485-85de-4ca8-859a-57a3b7779eea",
   "metadata": {},
   "outputs": [],
   "source": [
    "# Create Table with Spark\n",
    "spark.read.format(\"qbeast\").load(qbeast_data_path).createOrReplaceTempView(\"events\")"
   ]
  },
  {
   "cell_type": "markdown",
   "id": "6203501f",
   "metadata": {},
   "source": [
    "## Analyzing Github Data"
   ]
  },
  {
   "cell_type": "code",
   "execution_count": 8,
   "id": "90172005-6471-4ef0-9169-d0790dfc571c",
   "metadata": {},
   "outputs": [
    {
     "name": "stdout",
     "output_type": "stream",
     "text": [
      "+-----------------------------+\n",
      "|event_type                   |\n",
      "+-----------------------------+\n",
      "|PullRequestReviewEvent       |\n",
      "|PushEvent                    |\n",
      "|GollumEvent                  |\n",
      "|ReleaseEvent                 |\n",
      "|CommitCommentEvent           |\n",
      "|CreateEvent                  |\n",
      "|PullRequestReviewCommentEvent|\n",
      "|IssueCommentEvent            |\n",
      "|DeleteEvent                  |\n",
      "|IssuesEvent                  |\n",
      "|ForkEvent                    |\n",
      "|PublicEvent                  |\n",
      "|MemberEvent                  |\n",
      "|WatchEvent                   |\n",
      "|PullRequestEvent             |\n",
      "+-----------------------------+\n",
      "\n"
     ]
    }
   ],
   "source": [
    "spark.sql(\"\"\"SELECT DISTINCT event_type FROM events\"\"\").show(20, False)"
   ]
  },
  {
   "cell_type": "markdown",
   "id": "5ec082d4",
   "metadata": {},
   "source": [
    "### Listing TOP N Popular repositories by number of PR"
   ]
  },
  {
   "cell_type": "code",
   "execution_count": 10,
   "id": "5d8861d9",
   "metadata": {},
   "outputs": [
    {
     "name": "stdout",
     "output_type": "stream",
     "text": [
      "+----------------------------------+-------------+\n",
      "|repository                        |number_of_PRs|\n",
      "+----------------------------------+-------------+\n",
      "|google-test/signclav2-probe-repo  |576          |\n",
      "|google-test/signcla-probe-repo    |576          |\n",
      "|thisisshub/HacktoberFest          |412          |\n",
      "|actions-canary/ForkPRCanary       |375          |\n",
      "|boost-e2e-tester-stage/non-main-pr|364          |\n",
      "+----------------------------------+-------------+\n",
      "\n"
     ]
    }
   ],
   "source": [
    "# Repository popularity by number of PRs\n",
    "spark.sql(\"\"\"\n",
    "SELECT\n",
    "    repo.name AS repository,\n",
    "    count(*) as number_of_PRs\n",
    "FROM\n",
    "    events\n",
    "WHERE\n",
    "    event_type == 'PullRequestEvent'\n",
    "GROUP BY\n",
    "    repo.name\n",
    "ORDER BY\n",
    "    number_of_PRs DESC\n",
    "LIMIT 5\n",
    "\"\"\").show(10, False)"
   ]
  },
  {
   "cell_type": "markdown",
   "id": "3d009292",
   "metadata": {},
   "source": [
    "### Listing Top N Popular Repositories by number of events"
   ]
  },
  {
   "cell_type": "code",
   "execution_count": 14,
   "id": "864366a1",
   "metadata": {},
   "outputs": [
    {
     "name": "stdout",
     "output_type": "stream",
     "text": [
      "+----------------------+----------------------+\n",
      "|repository            |total_number_of_events|\n",
      "+----------------------+----------------------+\n",
      "|Lombiq/Orchard        |38803                 |\n",
      "|Lombiq/Testing-Toolbox|17938                 |\n",
      "|pczh2010/img          |16078                 |\n",
      "|krishrajchal/backup   |14975                 |\n",
      "|hmgdxf/tuchuang       |13930                 |\n",
      "+----------------------+----------------------+\n",
      "\n"
     ]
    }
   ],
   "source": [
    "# Repository popularity by number of events\n",
    "spark.sql(\"\"\"\n",
    "SELECT\n",
    "    repo.name AS repository,\n",
    "    count(*) as total_number_of_events\n",
    "FROM\n",
    "    events\n",
    "GROUP BY\n",
    "    repo.name\n",
    "ORDER BY\n",
    "    total_number_of_events DESC\n",
    "LIMIT 5\n",
    "\"\"\").show(10, False)"
   ]
  },
  {
   "cell_type": "markdown",
   "id": "a399584a-edf6-4085-ad56-74ce3701c289",
   "metadata": {},
   "source": [
    "### Listing top N repositories by number of issues"
   ]
  },
  {
   "cell_type": "code",
   "execution_count": 16,
   "id": "486e11df-7d5c-4f7a-831f-79a372e13bf1",
   "metadata": {},
   "outputs": [
    {
     "name": "stdout",
     "output_type": "stream",
     "text": [
      "+------------------------------+----------------------+\n",
      "|repository                    |total_number_of_issues|\n",
      "+------------------------------+----------------------+\n",
      "|pddemo/demo                   |1400                  |\n",
      "|miladmhb/aminafkar            |578                   |\n",
      "|taskylizard/friendly-palm-tree|392                   |\n",
      "|fuzzyfox123/uptime            |359                   |\n",
      "|operate-first/alerts          |346                   |\n",
      "+------------------------------+----------------------+\n",
      "\n"
     ]
    }
   ],
   "source": [
    "spark.sql(\"\"\"\n",
    "SELECT\n",
    "    repo.name AS repository,\n",
    "    count(*) as total_number_of_issues\n",
    "FROM\n",
    "    events\n",
    "WHERE\n",
    "    event_type IN ('IssuesEvent')\n",
    "GROUP BY\n",
    "    repo.name\n",
    "ORDER BY\n",
    "    total_number_of_issues DESC\n",
    "LIMIT 5\n",
    "\"\"\").show(10, False)"
   ]
  },
  {
   "cell_type": "markdown",
   "id": "859c1790-9c08-4a2d-b834-b321eab4f75b",
   "metadata": {},
   "source": [
    "### Benefit from Data Locality"
   ]
  },
  {
   "cell_type": "code",
   "execution_count": 84,
   "id": "9f2cb2da-c302-4728-ac69-79a448ab8998",
   "metadata": {},
   "outputs": [
    {
     "name": "stdout",
     "output_type": "stream",
     "text": [
      "+---------------------------------+\n",
      "|name                             |\n",
      "+---------------------------------+\n",
      "|girlscript/winter-of-contributing|\n",
      "|leetcode-pp/91alg-5-daily-check  |\n",
      "|NixOS/nixpkgs                    |\n",
      "+---------------------------------+\n",
      "\n",
      "> > > it took 10.355530500411987 seconds to complete\n"
     ]
    }
   ],
   "source": [
    "t = time.time()\n",
    "spark.sql(\"\"\"\n",
    "SELECT repo.name\n",
    "FROM events\n",
    "TABLESAMPLE (10 PERCENT)\n",
    "WHERE event_type IN ( 'IssueCommentEvent')\n",
    "GROUP BY repo.name\n",
    "ORDER BY COUNT(DISTINCT actor.id) DESC\n",
    "LIMIT 3\"\"\").show(10, False)\n",
    "print(f'> > > it took {time.time() - t} seconds to complete')"
   ]
  },
  {
   "cell_type": "code",
   "execution_count": 85,
   "id": "f77737b0-47f1-4beb-b032-b69d14df9a38",
   "metadata": {},
   "outputs": [
    {
     "name": "stdout",
     "output_type": "stream",
     "text": [
      "+---------------------------------+\n",
      "|name                             |\n",
      "+---------------------------------+\n",
      "|girlscript/winter-of-contributing|\n",
      "|leetcode-pp/91alg-5-daily-check  |\n",
      "|NixOS/nixpkgs                    |\n",
      "+---------------------------------+\n",
      "\n",
      "> > > it took 43.937153816223145 seconds to complete\n"
     ]
    }
   ],
   "source": [
    "t = time.time()\n",
    "spark.sql(\"\"\"\n",
    "SELECT repo.name\n",
    "FROM events_bronze\n",
    "WHERE type IN ( 'IssueCommentEvent')\n",
    "GROUP BY repo.name\n",
    "ORDER BY COUNT(DISTINCT actor.id) DESC\n",
    "LIMIT 3\"\"\").show(10, False)\n",
    "print(f'> > > it took {time.time() - t} seconds to complete')"
   ]
  },
  {
   "cell_type": "markdown",
   "id": "3ef744a8-eabb-417d-a188-5fcaf3783946",
   "metadata": {},
   "source": [
    "### Efficiency on issue closing"
   ]
  },
  {
   "cell_type": "code",
   "execution_count": 10,
   "id": "446aad06-9074-46c1-8da4-63994004641b",
   "metadata": {},
   "outputs": [],
   "source": [
    "pandas_dataframe = spark.sql(\"\"\"\n",
    "SELECT repo.name,\n",
    "       payload.action AS action,\n",
    "       COUNT(*) AS c\n",
    "FROM events\n",
    "WHERE event_type IN ('IssuesEvent')\n",
    "AND repo.name IN ('pddemo/demo', 'taskylizard/friendly-palm-tree', 'operate-first/alerts')\n",
    "GROUP BY 1,2\n",
    "ORDER BY 2 DESC\"\"\").toPandas()"
   ]
  },
  {
   "cell_type": "code",
   "execution_count": 32,
   "id": "47018fb9-07b4-4b5d-ba24-df275f0cce28",
   "metadata": {},
   "outputs": [
    {
     "data": {
      "text/html": [
       "<div>\n",
       "<style scoped>\n",
       "    .dataframe tbody tr th:only-of-type {\n",
       "        vertical-align: middle;\n",
       "    }\n",
       "\n",
       "    .dataframe tbody tr th {\n",
       "        vertical-align: top;\n",
       "    }\n",
       "\n",
       "    .dataframe thead th {\n",
       "        text-align: right;\n",
       "    }\n",
       "</style>\n",
       "<table border=\"1\" class=\"dataframe\">\n",
       "  <thead>\n",
       "    <tr style=\"text-align: right;\">\n",
       "      <th></th>\n",
       "      <th>name</th>\n",
       "      <th>action</th>\n",
       "      <th>c</th>\n",
       "    </tr>\n",
       "  </thead>\n",
       "  <tbody>\n",
       "    <tr>\n",
       "      <th>2</th>\n",
       "      <td>operate-first/alerts</td>\n",
       "      <td>opened</td>\n",
       "      <td>172</td>\n",
       "    </tr>\n",
       "    <tr>\n",
       "      <th>3</th>\n",
       "      <td>operate-first/alerts</td>\n",
       "      <td>closed</td>\n",
       "      <td>174</td>\n",
       "    </tr>\n",
       "    <tr>\n",
       "      <th>1</th>\n",
       "      <td>pddemo/demo</td>\n",
       "      <td>opened</td>\n",
       "      <td>1400</td>\n",
       "    </tr>\n",
       "    <tr>\n",
       "      <th>0</th>\n",
       "      <td>taskylizard/friendly-palm-tree</td>\n",
       "      <td>opened</td>\n",
       "      <td>367</td>\n",
       "    </tr>\n",
       "    <tr>\n",
       "      <th>4</th>\n",
       "      <td>taskylizard/friendly-palm-tree</td>\n",
       "      <td>closed</td>\n",
       "      <td>25</td>\n",
       "    </tr>\n",
       "  </tbody>\n",
       "</table>\n",
       "</div>"
      ],
      "text/plain": [
       "                             name  action     c\n",
       "2            operate-first/alerts  opened   172\n",
       "3            operate-first/alerts  closed   174\n",
       "1                     pddemo/demo  opened  1400\n",
       "0  taskylizard/friendly-palm-tree  opened   367\n",
       "4  taskylizard/friendly-palm-tree  closed    25"
      ]
     },
     "execution_count": 32,
     "metadata": {},
     "output_type": "execute_result"
    }
   ],
   "source": [
    "df = pandas_dataframe.sort_values(\"name\")\n",
    "df"
   ]
  },
  {
   "cell_type": "code",
   "execution_count": 53,
   "id": "cfd8b6a9-240b-4f58-8b6e-bae4892ac178",
   "metadata": {},
   "outputs": [],
   "source": [
    "issues_closed = [174, 0, 25]\n",
    "issues_open = [172, 1400, 367]\n",
    "repos = df[\"name\"].drop_duplicates()"
   ]
  },
  {
   "cell_type": "code",
   "execution_count": 54,
   "id": "99529a00-0f8e-48ef-a6d0-dd83ed5d5e0b",
   "metadata": {},
   "outputs": [
    {
     "data": {
      "image/png": "[encoded data removed]",
      "text/plain": [
       "<Figure size 1000x500 with 1 Axes>"
      ]
     },
     "metadata": {},
     "output_type": "display_data"
    }
   ],
   "source": [
    "import matplotlib.pyplot as plt\n",
    "import numpy as np\n",
    "\n",
    "x = np.arange(len(repos))  # the label locations\n",
    "width = 0.35  # the width of the bars\n",
    "plt.rcParams[\"figure.figsize\"] = (10,5)\n",
    "\n",
    "fig, ax = plt.subplots()\n",
    "rects1 = ax.bar(x - width/2, issues_closed, width, label='Issues closed')\n",
    "rects2 = ax.bar(x + width/2, issues_open, width, label='Issues opened')\n",
    "\n",
    "# Add some text for labels, title and custom x-axis tick labels, etc.\n",
    "ax.set_ylabel('Github Repos')\n",
    "ax.set_title('Efficiency closing issues')\n",
    "ax.set_xticks(x, repos)\n",
    "ax.legend()\n",
    "\n",
    "plt.show()"
   ]
  },
  {
   "cell_type": "markdown",
   "id": "f61843ce-e5c1-4efe-ac31-aa7adcfdcbe6",
   "metadata": {},
   "source": [
    "### Popular ways of closing issues"
   ]
  },
  {
   "cell_type": "code",
   "execution_count": 6,
   "id": "2c81fb3a-532c-4980-b82a-b46eeb5af5c7",
   "metadata": {},
   "outputs": [
    {
     "name": "stdout",
     "output_type": "stream",
     "text": [
      "+------------------------------+-------+-----------------+\n",
      "|start                         |authors|percentage_closed|\n",
      "+------------------------------+-------+-----------------+\n",
      "|I would like to               |91     |100.0            |\n",
      "|Is it possible to             |40     |100.0            |\n",
      "|It would be nice              |39     |100.0            |\n",
      "|I am trying to                |39     |100.0            |\n",
      "|Is there a way                |24     |100.0            |\n",
      "|I want to add                 |23     |100.0            |\n",
      "|It would be great             |21     |100.0            |\n",
      "|I think it would              |14     |100.0            |\n",
      "|When I try to                 |13     |100.0            |\n",
      "|This issue provides visibility|12     |100.0            |\n",
      "|I was trying to               |12     |100.0            |\n",
      "|Would it be possible          |12     |100.0            |\n",
      "|I want to contribute          |10     |100.0            |\n",
      "|Given an array of             |10     |100.0            |\n",
      "|Is there any way              |10     |100.0            |\n",
      "|I want to use                 |8      |100.0            |\n",
      "|As a user I                   |8      |100.0            |\n",
      "|Currently there is no         |7      |100.0            |\n",
      "|I have been using             |7      |100.0            |\n",
      "|It looks like the             |7      |100.0            |\n",
      "+------------------------------+-------+-----------------+\n",
      "\n"
     ]
    }
   ],
   "source": [
    "spark.sql(\"\"\"\n",
    "SELECT REGEXP_EXTRACT(payload.issue.body, r'^([A-Za-z]+ [A-Za-z]+ [A-Za-z]+ [A-Za-z]+)') AS start, \n",
    "       COUNT(DISTINCT actor.login) AS authors, \n",
    "       ROUND(100*COUNT(payload.action=='closed')/COUNT(payload.action=='opened'),1)\n",
    "         percentage_closed\n",
    "FROM events\n",
    "WHERE event_type='IssuesEvent'\n",
    "GROUP BY 1\n",
    "HAVING start != '' \n",
    "ORDER BY 2 DESC\n",
    "LIMIT 20\"\"\").show(20, False)"
   ]
  }
 ],
 "metadata": {
  "kernelspec": {
   "display_name": "Python 3 (ipykernel)",
   "language": "python",
   "name": "python3"
  },
  "language_info": {
   "codemirror_mode": {
    "name": "ipython",
    "version": 3
   },
   "file_extension": ".py",
   "mimetype": "text/x-python",
   "name": "python",
   "nbconvert_exporter": "python",
   "pygments_lexer": "ipython3",
   "version": "3.10.6"
  }
 },
 "nbformat": 4,
 "nbformat_minor": 5
}
